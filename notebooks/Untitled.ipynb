{
 "cells": [
  {
   "cell_type": "code",
   "execution_count": 44,
   "id": "fa6f50b1",
   "metadata": {},
   "outputs": [],
   "source": [
    "import pandas as pd\n",
    "import numpy as np\n",
    "import os\n",
    "import urllib\n",
    "import chardet\n"
   ]
  },
  {
   "cell_type": "code",
   "execution_count": 104,
   "id": "64bf9026",
   "metadata": {},
   "outputs": [
    {
     "name": "stdout",
     "output_type": "stream",
     "text": [
      "sem dados para 2000\n",
      "sem dados para 2001\n",
      "sem dados para 2002\n",
      "sem dados para 2003\n",
      "sem dados para 2004\n",
      "sem dados para 2005\n",
      "sem dados para 2006\n",
      "sem dados para 2007\n"
     ]
    }
   ],
   "source": [
    "inicial = 2000\n",
    "final = 2023\n",
    "caminho_src_data = f'..\\\\src\\\\data\\\\'\n",
    "for ano in np.arange(inicial, final+1,1):\n",
    "    url = f'https://www.senado.gov.br/transparencia/LAI/verba/despesa_ceaps_{ano}.csv'\n",
    "    try:\n",
    "        urllib.request.urlretrieve(url,filename=caminho_src_data+f'despesa_ceaps_{ano}.csv')\n",
    "    except:\n",
    "        print(f'sem dados para {ano}')"
   ]
  },
  {
   "cell_type": "code",
   "execution_count": 75,
   "id": "d555b147",
   "metadata": {},
   "outputs": [
    {
     "name": "stdout",
     "output_type": "stream",
     "text": [
      "ISO-8859-1\n"
     ]
    }
   ],
   "source": [
    "with open(caminho_src_data + f'despesa_ceaps_2008.csv', 'rb') as file:\n",
    "    result = chardet.detect(file.read())\n",
    "    encoding = result['encoding']\n",
    "    print(result['encoding'])"
   ]
  },
  {
   "cell_type": "code",
   "execution_count": 108,
   "id": "afe0fafe",
   "metadata": {
    "scrolled": false
   },
   "outputs": [],
   "source": [
    "ano = 2009\n",
    "arquivo = f'despesa_ceaps_{ano}.csv'\n",
    "df_2009 = pd.read_csv(caminho_src_data + arquivo,encoding='ISO-8859-1',on_bad_lines='skip', delimiter=';',skiprows=1)"
   ]
  },
  {
   "cell_type": "code",
   "execution_count": 113,
   "id": "d4cbf7cd",
   "metadata": {},
   "outputs": [
    {
     "data": {
      "text/plain": [
       "Index(['ANO', 'MES', 'SENADOR', 'TIPO_DESPESA', 'CNPJ_CPF', 'FORNECEDOR',\n",
       "       'DOCUMENTO', 'DATA', 'DETALHAMENTO', 'VALOR_REEMBOLSADO',\n",
       "       'COD_DOCUMENTO'],\n",
       "      dtype='object')"
      ]
     },
     "execution_count": 113,
     "metadata": {},
     "output_type": "execute_result"
    }
   ],
   "source": [
    "df_2009.columns"
   ]
  },
  {
   "cell_type": "code",
   "execution_count": 117,
   "id": "c0c4325a",
   "metadata": {},
   "outputs": [
    {
     "data": {
      "text/plain": [
       "ANO                    int64\n",
       "MES                    int64\n",
       "SENADOR               object\n",
       "TIPO_DESPESA          object\n",
       "CNPJ_CPF              object\n",
       "FORNECEDOR            object\n",
       "DOCUMENTO             object\n",
       "DATA                  object\n",
       "DETALHAMENTO         float64\n",
       "VALOR_REEMBOLSADO     object\n",
       "COD_DOCUMENTO          int64\n",
       "dtype: object"
      ]
     },
     "execution_count": 117,
     "metadata": {},
     "output_type": "execute_result"
    }
   ],
   "source": [
    "df_2009.dtypes\n"
   ]
  },
  {
   "cell_type": "code",
   "execution_count": 132,
   "id": "1f14ab3c",
   "metadata": {},
   "outputs": [],
   "source": [
    "df_2009.VALOR_REEMBOLSADO = df_2009.VALOR_REEMBOLSADO.str.replace(\",\",\".\").astype('float')\n",
    "df_2009.sort_values()"
   ]
  },
  {
   "cell_type": "code",
   "execution_count": 138,
   "id": "8127c5f8",
   "metadata": {},
   "outputs": [
    {
     "data": {
      "text/html": [
       "<div>\n",
       "<style scoped>\n",
       "    .dataframe tbody tr th:only-of-type {\n",
       "        vertical-align: middle;\n",
       "    }\n",
       "\n",
       "    .dataframe tbody tr th {\n",
       "        vertical-align: top;\n",
       "    }\n",
       "\n",
       "    .dataframe thead th {\n",
       "        text-align: right;\n",
       "    }\n",
       "</style>\n",
       "<table border=\"1\" class=\"dataframe\">\n",
       "  <thead>\n",
       "    <tr style=\"text-align: right;\">\n",
       "      <th></th>\n",
       "      <th>ANO</th>\n",
       "      <th>MES</th>\n",
       "      <th>DETALHAMENTO</th>\n",
       "      <th>VALOR_REEMBOLSADO</th>\n",
       "      <th>COD_DOCUMENTO</th>\n",
       "    </tr>\n",
       "    <tr>\n",
       "      <th>SENADOR</th>\n",
       "      <th></th>\n",
       "      <th></th>\n",
       "      <th></th>\n",
       "      <th></th>\n",
       "      <th></th>\n",
       "    </tr>\n",
       "  </thead>\n",
       "  <tbody>\n",
       "    <tr>\n",
       "      <th>MARCONI PERILLO</th>\n",
       "      <td>421890</td>\n",
       "      <td>1548</td>\n",
       "      <td>0.0</td>\n",
       "      <td>180000.00</td>\n",
       "      <td>24108285625925</td>\n",
       "    </tr>\n",
       "    <tr>\n",
       "      <th>MOZARILDO CAVALCANTI</th>\n",
       "      <td>1211427</td>\n",
       "      <td>4846</td>\n",
       "      <td>0.0</td>\n",
       "      <td>180000.00</td>\n",
       "      <td>30135416862282</td>\n",
       "    </tr>\n",
       "    <tr>\n",
       "      <th>GILVAM BORGES</th>\n",
       "      <td>24108</td>\n",
       "      <td>78</td>\n",
       "      <td>0.0</td>\n",
       "      <td>180000.00</td>\n",
       "      <td>6027061770601</td>\n",
       "    </tr>\n",
       "    <tr>\n",
       "      <th>INÁCIO ARRUDA</th>\n",
       "      <td>297332</td>\n",
       "      <td>1153</td>\n",
       "      <td>0.0</td>\n",
       "      <td>180000.00</td>\n",
       "      <td>18081213834989</td>\n",
       "    </tr>\n",
       "    <tr>\n",
       "      <th>OSMAR DIAS</th>\n",
       "      <td>1165220</td>\n",
       "      <td>4466</td>\n",
       "      <td>0.0</td>\n",
       "      <td>180000.00</td>\n",
       "      <td>28126388857289</td>\n",
       "    </tr>\n",
       "    <tr>\n",
       "      <th>...</th>\n",
       "      <td>...</td>\n",
       "      <td>...</td>\n",
       "      <td>...</td>\n",
       "      <td>...</td>\n",
       "      <td>...</td>\n",
       "    </tr>\n",
       "    <tr>\n",
       "      <th>EDUARDO SUPLICY</th>\n",
       "      <td>383719</td>\n",
       "      <td>1355</td>\n",
       "      <td>0.0</td>\n",
       "      <td>29761.31</td>\n",
       "      <td>18081213796722</td>\n",
       "    </tr>\n",
       "    <tr>\n",
       "      <th>ROBERTO CAVALCANTI</th>\n",
       "      <td>30135</td>\n",
       "      <td>138</td>\n",
       "      <td>0.0</td>\n",
       "      <td>26300.00</td>\n",
       "      <td>2986348</td>\n",
       "    </tr>\n",
       "    <tr>\n",
       "      <th>JOÃO TENÓRIO</th>\n",
       "      <td>40180</td>\n",
       "      <td>176</td>\n",
       "      <td>0.0</td>\n",
       "      <td>21911.76</td>\n",
       "      <td>6027064981594</td>\n",
       "    </tr>\n",
       "    <tr>\n",
       "      <th>ACIR GURGACZ</th>\n",
       "      <td>4018</td>\n",
       "      <td>24</td>\n",
       "      <td>0.0</td>\n",
       "      <td>17620.00</td>\n",
       "      <td>444933</td>\n",
       "    </tr>\n",
       "    <tr>\n",
       "      <th>JOSÉ MARANHÃO</th>\n",
       "      <td>6027</td>\n",
       "      <td>4</td>\n",
       "      <td>0.0</td>\n",
       "      <td>14383.20</td>\n",
       "      <td>6027040552613</td>\n",
       "    </tr>\n",
       "  </tbody>\n",
       "</table>\n",
       "<p>85 rows × 5 columns</p>\n",
       "</div>"
      ],
      "text/plain": [
       "                          ANO   MES  DETALHAMENTO  VALOR_REEMBOLSADO  \\\n",
       "SENADOR                                                                \n",
       "MARCONI PERILLO        421890  1548           0.0          180000.00   \n",
       "MOZARILDO CAVALCANTI  1211427  4846           0.0          180000.00   \n",
       "GILVAM BORGES           24108    78           0.0          180000.00   \n",
       "INÁCIO ARRUDA          297332  1153           0.0          180000.00   \n",
       "OSMAR DIAS            1165220  4466           0.0          180000.00   \n",
       "...                       ...   ...           ...                ...   \n",
       "EDUARDO SUPLICY        383719  1355           0.0           29761.31   \n",
       "ROBERTO CAVALCANTI      30135   138           0.0           26300.00   \n",
       "JOÃO TENÓRIO            40180   176           0.0           21911.76   \n",
       "ACIR GURGACZ             4018    24           0.0           17620.00   \n",
       "JOSÉ MARANHÃO            6027     4           0.0           14383.20   \n",
       "\n",
       "                       COD_DOCUMENTO  \n",
       "SENADOR                               \n",
       "MARCONI PERILLO       24108285625925  \n",
       "MOZARILDO CAVALCANTI  30135416862282  \n",
       "GILVAM BORGES          6027061770601  \n",
       "INÁCIO ARRUDA         18081213834989  \n",
       "OSMAR DIAS            28126388857289  \n",
       "...                              ...  \n",
       "EDUARDO SUPLICY       18081213796722  \n",
       "ROBERTO CAVALCANTI           2986348  \n",
       "JOÃO TENÓRIO           6027064981594  \n",
       "ACIR GURGACZ                  444933  \n",
       "JOSÉ MARANHÃO          6027040552613  \n",
       "\n",
       "[85 rows x 5 columns]"
      ]
     },
     "execution_count": 138,
     "metadata": {},
     "output_type": "execute_result"
    }
   ],
   "source": [
    "df_2009.groupby(\"SENADOR\").sum().sort_values(\"VALOR_REEMBOLSADO\", ascending = False)"
   ]
  },
  {
   "cell_type": "code",
   "execution_count": null,
   "id": "de98231a",
   "metadata": {},
   "outputs": [],
   "source": []
  }
 ],
 "metadata": {
  "kernelspec": {
   "display_name": "Python 3 (ipykernel)",
   "language": "python",
   "name": "python3"
  },
  "language_info": {
   "codemirror_mode": {
    "name": "ipython",
    "version": 3
   },
   "file_extension": ".py",
   "mimetype": "text/x-python",
   "name": "python",
   "nbconvert_exporter": "python",
   "pygments_lexer": "ipython3",
   "version": "3.10.2"
  },
  "toc": {
   "base_numbering": 1,
   "nav_menu": {},
   "number_sections": true,
   "sideBar": true,
   "skip_h1_title": false,
   "title_cell": "Table of Contents",
   "title_sidebar": "Contents",
   "toc_cell": false,
   "toc_position": {},
   "toc_section_display": true,
   "toc_window_display": false
  },
  "varInspector": {
   "cols": {
    "lenName": 16,
    "lenType": 16,
    "lenVar": 40
   },
   "kernels_config": {
    "python": {
     "delete_cmd_postfix": "",
     "delete_cmd_prefix": "del ",
     "library": "var_list.py",
     "varRefreshCmd": "print(var_dic_list())"
    },
    "r": {
     "delete_cmd_postfix": ") ",
     "delete_cmd_prefix": "rm(",
     "library": "var_list.r",
     "varRefreshCmd": "cat(var_dic_list()) "
    }
   },
   "types_to_exclude": [
    "module",
    "function",
    "builtin_function_or_method",
    "instance",
    "_Feature"
   ],
   "window_display": false
  }
 },
 "nbformat": 4,
 "nbformat_minor": 5
}
